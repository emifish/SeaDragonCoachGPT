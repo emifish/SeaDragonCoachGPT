{
  "nbformat": 4,
  "nbformat_minor": 0,
  "metadata": {
    "colab": {
      "provenance": [],
      "authorship_tag": "ABX9TyMNtrUIsbZPLLUHYJmZ1xBV",
      "include_colab_link": true
    },
    "kernelspec": {
      "name": "python3",
      "display_name": "Python 3"
    },
    "language_info": {
      "name": "python"
    }
  },
  "cells": [
    {
      "cell_type": "markdown",
      "metadata": {
        "id": "view-in-github",
        "colab_type": "text"
      },
      "source": [
        "<a href=\"https://colab.research.google.com/github/emifish/AI4AllIgniteProject/blob/main/SeaDragonCoachGPT_Soccer_Assistant.ipynb\" target=\"_parent\"><img src=\"https://colab.research.google.com/assets/colab-badge.svg\" alt=\"Open In Colab\"/></a>"
      ]
    },
    {
      "cell_type": "code",
      "execution_count": 1,
      "metadata": {
        "id": "mmoFnDl609GZ"
      },
      "outputs": [],
      "source": [
        "# Install required packages (uncomment if needed)\n",
        "# !pip install openai\n",
        "# !pip install pandas\n",
        "# !pip install ipywidgets\n",
        "\n",
        "import openai\n",
        "import json\n",
        "import os\n",
        "from datetime import datetime\n",
        "import random"
      ]
    },
    {
      "cell_type": "code",
      "source": [
        "# Install latest OpenAI SDK\n",
        "!pip install --upgrade openai\n"
      ],
      "metadata": {
        "colab": {
          "base_uri": "https://localhost:8080/"
        },
        "id": "D8HS6U6YCZur",
        "outputId": "c657c0c7-8e28-400d-b46c-5b015ea3e4c1"
      },
      "execution_count": 17,
      "outputs": [
        {
          "output_type": "stream",
          "name": "stdout",
          "text": [
            "Requirement already satisfied: openai in /usr/local/lib/python3.11/dist-packages (1.70.0)\n",
            "Requirement already satisfied: anyio<5,>=3.5.0 in /usr/local/lib/python3.11/dist-packages (from openai) (4.9.0)\n",
            "Requirement already satisfied: distro<2,>=1.7.0 in /usr/local/lib/python3.11/dist-packages (from openai) (1.9.0)\n",
            "Requirement already satisfied: httpx<1,>=0.23.0 in /usr/local/lib/python3.11/dist-packages (from openai) (0.28.1)\n",
            "Requirement already satisfied: jiter<1,>=0.4.0 in /usr/local/lib/python3.11/dist-packages (from openai) (0.9.0)\n",
            "Requirement already satisfied: pydantic<3,>=1.9.0 in /usr/local/lib/python3.11/dist-packages (from openai) (2.11.0)\n",
            "Requirement already satisfied: sniffio in /usr/local/lib/python3.11/dist-packages (from openai) (1.3.1)\n",
            "Requirement already satisfied: tqdm>4 in /usr/local/lib/python3.11/dist-packages (from openai) (4.67.1)\n",
            "Requirement already satisfied: typing-extensions<5,>=4.11 in /usr/local/lib/python3.11/dist-packages (from openai) (4.13.0)\n",
            "Requirement already satisfied: idna>=2.8 in /usr/local/lib/python3.11/dist-packages (from anyio<5,>=3.5.0->openai) (3.10)\n",
            "Requirement already satisfied: certifi in /usr/local/lib/python3.11/dist-packages (from httpx<1,>=0.23.0->openai) (2025.1.31)\n",
            "Requirement already satisfied: httpcore==1.* in /usr/local/lib/python3.11/dist-packages (from httpx<1,>=0.23.0->openai) (1.0.7)\n",
            "Requirement already satisfied: h11<0.15,>=0.13 in /usr/local/lib/python3.11/dist-packages (from httpcore==1.*->httpx<1,>=0.23.0->openai) (0.14.0)\n",
            "Requirement already satisfied: annotated-types>=0.6.0 in /usr/local/lib/python3.11/dist-packages (from pydantic<3,>=1.9.0->openai) (0.7.0)\n",
            "Requirement already satisfied: pydantic-core==2.33.0 in /usr/local/lib/python3.11/dist-packages (from pydantic<3,>=1.9.0->openai) (2.33.0)\n",
            "Requirement already satisfied: typing-inspection>=0.4.0 in /usr/local/lib/python3.11/dist-packages (from pydantic<3,>=1.9.0->openai) (0.4.0)\n"
          ]
        }
      ]
    },
    {
      "cell_type": "code",
      "source": [
        "import getpass\n",
        "from openai import OpenAI\n",
        "\n",
        "# Prompt for the key\n",
        "api_key = getpass.getpass(\"Enter your OpenAI API key: \")\n"
      ],
      "metadata": {
        "colab": {
          "base_uri": "https://localhost:8080/"
        },
        "id": "6ANj0h2NCfpo",
        "outputId": "5c00b37a-faaf-43c6-cc81-e5a281c90608"
      },
      "execution_count": 18,
      "outputs": [
        {
          "name": "stdout",
          "output_type": "stream",
          "text": [
            "Enter your OpenAI API key: ··········\n"
          ]
        }
      ]
    },
    {
      "cell_type": "code",
      "source": [
        "# Create the OpenAI client with your working API key\n",
        "client = OpenAI(api_key=api_key)\n",
        "\n",
        "# Send a simple test message\n",
        "response = client.chat.completions.create(\n",
        "    model=\"gpt-3.5-turbo\",  # or \"gpt-4\" if you have access\n",
        "    messages=[\n",
        "        {\"role\": \"system\", \"content\": \"You are a helpful soccer coaching assistant.\"},\n",
        "        {\"role\": \"user\", \"content\": \"Give me a warm-up drill for 9-year-old soccer players.\"}\n",
        "    ]\n",
        ")\n",
        "\n",
        "# Print the assistant's response\n",
        "print(\"CoachGPT says:\\n\")\n",
        "print(response.choices[0].message.content)\n"
      ],
      "metadata": {
        "colab": {
          "base_uri": "https://localhost:8080/"
        },
        "id": "hK3Qbk1fCvqH",
        "outputId": "4be8a2f3-f006-47e1-d40a-c65deddf91d9"
      },
      "execution_count": 21,
      "outputs": [
        {
          "output_type": "stream",
          "name": "stdout",
          "text": [
            "CoachGPT says:\n",
            "\n",
            "Sure! Here's a fun and effective warm-up drill for 9-year-old soccer players:\n",
            "\n",
            "Title: Dribble and Tag\n",
            "\n",
            "Instructions:\n",
            "1. Set up a playing area suitable for the number of players. Use cones to mark the boundaries.\n",
            "2. Each player will have a ball and will start dribbling within the playing area.\n",
            "3. Choose one player to be the \"tagger\". Their goal is to tag the other players by touching their ball with their hand.\n",
            "4. When a player's ball is tagged, they must perform a fun and silly exercise (e.g. hopping on one foot, spinning in a circle) before continuing to dribble.\n",
            "5. If a player dribbles their ball out of bounds, they can perform a different exercise before re-entering the playing area.\n",
            "6. Switch the tagger periodically to give everyone a chance to tag and dribble.\n",
            "\n",
            "This drill helps players improve their dribbling skills while adding an element of fun and physical activity. It also encourages quick reactions and agility. Remember to emphasize good sportsmanship and positive encouragement during the activity. Have fun!\n"
          ]
        }
      ]
    }
  ]
}